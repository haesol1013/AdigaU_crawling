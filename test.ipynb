{
 "cells": [
  {
   "cell_type": "code",
   "id": "initial_id",
   "metadata": {
    "collapsed": true,
    "ExecuteTime": {
     "end_time": "2024-05-17T09:34:12.409670Z",
     "start_time": "2024-05-17T09:34:12.249327Z"
    }
   },
   "source": [
    "import time\n",
    "from selenium import webdriver\n",
    "from selenium.webdriver.common.by import By\n",
    "from selenium.webdriver.edge.service import Service\n",
    "from bs4 import BeautifulSoup"
   ],
   "outputs": [],
   "execution_count": 1
  },
  {
   "metadata": {
    "ExecuteTime": {
     "end_time": "2024-05-17T09:34:25.914699Z",
     "start_time": "2024-05-17T09:34:14.194144Z"
    }
   },
   "cell_type": "code",
   "source": [
    "s = Service(r'C:\\Users\\home\\Documents\\edgedriver_win64\\msedgedriver.exe')\n",
    "driver = webdriver.Edge(service=s)\n",
    "url = 'https://www.instagram.com'\n",
    "driver.get(url)\n",
    "time.sleep(10)"
   ],
   "id": "a08af4ea2dc9b675",
   "outputs": [],
   "execution_count": 2
  },
  {
   "metadata": {
    "ExecuteTime": {
     "end_time": "2024-05-17T09:34:26.192009Z",
     "start_time": "2024-05-17T09:34:25.918633Z"
    }
   },
   "cell_type": "code",
   "source": [
    "username_input = driver.find_element(By.NAME, 'username')\n",
    "password_input = driver.find_element(By.NAME, 'password')\n",
    "username_input.send_keys('tjdwnsgur0911@gmail.com')\n",
    "password_input.send_keys('jung090911')\n",
    "login = driver.find_element(By.XPATH, \"//button[@type='submit']\")\n",
    "login.click()"
   ],
   "id": "d45c58fd55651a54",
   "outputs": [],
   "execution_count": 3
  },
  {
   "metadata": {
    "ExecuteTime": {
     "end_time": "2024-05-17T09:34:38.891503Z",
     "start_time": "2024-05-17T09:34:38.886541Z"
    }
   },
   "cell_type": "code",
   "source": [
    "def insta_searching(profile):\n",
    "    url = 'https://www.instagram.com/' + profile + '/'\n",
    "    return url"
   ],
   "id": "b40d1380fb5aa690",
   "outputs": [],
   "execution_count": 4
  },
  {
   "metadata": {
    "ExecuteTime": {
     "end_time": "2024-05-17T09:34:44.388228Z",
     "start_time": "2024-05-17T09:34:42.022454Z"
    }
   },
   "cell_type": "code",
   "source": "driver.get(insta_searching('daejeon_people'))",
   "id": "e3898d468719fa5e",
   "outputs": [],
   "execution_count": 5
  },
  {
   "metadata": {
    "ExecuteTime": {
     "end_time": "2024-05-17T09:37:06.013644Z",
     "start_time": "2024-05-17T09:37:03.410804Z"
    }
   },
   "cell_type": "code",
   "source": [
    "from selenium.webdriver.support.ui import WebDriverWait\n",
    "from selenium.webdriver.support import expected_conditions as EC\n",
    "\n",
    "first_post = WebDriverWait(driver, 10).until(\n",
    "        EC.visibility_of_element_located((By.CLASS_NAME, \"_abpo\"))\n",
    "    )\n",
    "first_post.click()"
   ],
   "id": "8af5fd54ef168779",
   "outputs": [],
   "execution_count": 8
  },
  {
   "metadata": {
    "ExecuteTime": {
     "end_time": "2024-05-16T15:48:01.780846Z",
     "start_time": "2024-05-16T15:48:01.769493Z"
    }
   },
   "cell_type": "code",
   "source": [
    "def get_content(driver):\n",
    "    html = driver.page_source\n",
    "    soup = BeautifulSoup(html, 'lxml')"
   ],
   "id": "5df868afff36aa4c",
   "outputs": [],
   "execution_count": 13
  },
  {
   "metadata": {},
   "cell_type": "code",
   "outputs": [],
   "execution_count": null,
   "source": [
    "from selenium.webdriver.common.keys import Keys\n",
    "\n",
    "driver.get(insta_searching('daejeon_people'))\n",
    "body_tag = driver.find_element(By.TAG_NAME,'body')\n",
    "\n",
    "while True:\n",
    "    body_tag.send_keys(Keys.END)\n",
    "    time.sleep(3)\n",
    "\n",
    "driver.quit()"
   ],
   "id": "4e0790a36105ccaa"
  }
 ],
 "metadata": {
  "kernelspec": {
   "display_name": "Python 3",
   "language": "python",
   "name": "python3"
  },
  "language_info": {
   "codemirror_mode": {
    "name": "ipython",
    "version": 2
   },
   "file_extension": ".py",
   "mimetype": "text/x-python",
   "name": "python",
   "nbconvert_exporter": "python",
   "pygments_lexer": "ipython2",
   "version": "2.7.6"
  }
 },
 "nbformat": 4,
 "nbformat_minor": 5
}
