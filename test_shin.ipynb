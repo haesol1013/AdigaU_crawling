{
 "cells": [
  {
   "cell_type": "code",
   "id": "initial_id",
   "metadata": {
    "collapsed": true,
    "ExecuteTime": {
     "end_time": "2024-05-19T11:36:07.105741Z",
     "start_time": "2024-05-19T11:36:07.102111Z"
    }
   },
   "source": [
    "from selenium import webdriver\n",
    "from selenium.webdriver.common.by import By\n",
    "from bs4 import BeautifulSoup\n",
    "from selenium.common.exceptions import NoSuchElementException"
   ],
   "outputs": [],
   "execution_count": 68
  },
  {
   "metadata": {
    "ExecuteTime": {
     "end_time": "2024-05-19T11:36:11.801988Z",
     "start_time": "2024-05-19T11:36:08.369308Z"
    }
   },
   "cell_type": "code",
   "source": [
    "driver = webdriver.Chrome()\n",
    "url = \"https://www.instagram.com\"\n",
    "driver.get(url)\n",
    "driver.implicitly_wait(2)"
   ],
   "id": "a08af4ea2dc9b675",
   "outputs": [],
   "execution_count": 69
  },
  {
   "metadata": {
    "ExecuteTime": {
     "end_time": "2024-05-19T11:36:18.481829Z",
     "start_time": "2024-05-19T11:36:18.297851Z"
    }
   },
   "cell_type": "code",
   "source": [
    "username_input = driver.find_element(By.NAME, \"username\")\n",
    "password_input = driver.find_element(By.NAME, \"password\")\n",
    "username_input.send_keys(\"adigau1234\")\n",
    "password_input.send_keys(\"djelrkdb\")\n",
    "login = driver.find_element(By.XPATH, \"//button[@type='submit']\")\n",
    "login.click()"
   ],
   "id": "d45c58fd55651a54",
   "outputs": [],
   "execution_count": 70
  },
  {
   "metadata": {
    "ExecuteTime": {
     "end_time": "2024-05-19T11:36:22.766215Z",
     "start_time": "2024-05-19T11:36:22.761920Z"
    }
   },
   "cell_type": "code",
   "source": [
    "def insta_searching(profile: str) -> str:\n",
    "    url = \"https://www.instagram.com/\" + profile + \"/\"\n",
    "    return url"
   ],
   "id": "b40d1380fb5aa690",
   "outputs": [],
   "execution_count": 71
  },
  {
   "metadata": {
    "ExecuteTime": {
     "end_time": "2024-05-19T11:36:25.115249Z",
     "start_time": "2024-05-19T11:36:23.851355Z"
    }
   },
   "cell_type": "code",
   "source": [
    "account = \"jjoo_kite\"\n",
    "driver.get(insta_searching(account))"
   ],
   "id": "e3898d468719fa5e",
   "outputs": [],
   "execution_count": 72
  },
  {
   "metadata": {
    "ExecuteTime": {
     "end_time": "2024-05-19T11:36:25.852101Z",
     "start_time": "2024-05-19T11:36:25.848889Z"
    }
   },
   "cell_type": "code",
   "source": [
    "def first_post(driver):\n",
    "    first = driver.find_element(By.CSS_SELECTOR,\"a[href = '/p/C6N8u-FBIIv/']\")\n",
    "    first.click()"
   ],
   "id": "8af5fd54ef168779",
   "outputs": [],
   "execution_count": 73
  },
  {
   "metadata": {
    "ExecuteTime": {
     "end_time": "2024-05-19T11:36:26.856323Z",
     "start_time": "2024-05-19T11:36:26.851048Z"
    }
   },
   "cell_type": "code",
   "source": [
    "import unicodedata as uni\n",
    "import re\n",
    "\n",
    "def get_content(driver):\n",
    "    html = driver.page_source\n",
    "    soup = BeautifulSoup(html, 'html.parser')\n",
    "    try:\n",
    "        content = soup.select('div._a9zs')[0].text\n",
    "        content = uni.normalize('NFC',content)\n",
    "    except:\n",
    "        content = ' '\n",
    "    tags = re.findall(r'#[^Ws#,\\\\]+', content)\n",
    "    try:\n",
    "        date = soup.select(\"time._a9ze._a9zf\")[0]['datetime'][:10]\n",
    "    except IndexError:\n",
    "        date = None\n",
    "    content = content.split(\"#\")[0]\n",
    "    data = [content, tags, date]\n",
    "    return data"
   ],
   "id": "5df868afff36aa4c",
   "outputs": [],
   "execution_count": 74
  },
  {
   "metadata": {
    "ExecuteTime": {
     "end_time": "2024-05-19T11:36:27.692887Z",
     "start_time": "2024-05-19T11:36:27.688821Z"
    }
   },
   "cell_type": "code",
   "source": [
    "def move_next(driver):\n",
    "    right = driver.find_element(By.CSS_SELECTOR, \"svg[aria-label = '다음']\")\n",
    "    right.click()\n",
    "    driver.implicitly_wait(2)"
   ],
   "id": "601f9a69cc8fda12",
   "outputs": [],
   "execution_count": 75
  },
  {
   "metadata": {
    "ExecuteTime": {
     "end_time": "2024-05-19T11:36:30.008795Z",
     "start_time": "2024-05-19T11:36:28.938424Z"
    }
   },
   "cell_type": "code",
   "source": [
    "post_number = 3\n",
    "total_data = []\n",
    "first_post(driver)\n",
    "for i in range(post_number):\n",
    "    try:\n",
    "        data = get_content(driver)\n",
    "        total_data.append(data)\n",
    "        move_next(driver)\n",
    "    except NoSuchElementException:\n",
    "        break\n",
    "    except:\n",
    "        move_next(driver)\n",
    "print(total_data)"
   ],
   "id": "d136c91ee6cf2d3e",
   "outputs": [
    {
     "name": "stdout",
     "output_type": "stream",
     "text": [
      "[['포항항🌊💙', [], '2024-04-26'], ['4월이 젤로 조아..조았어😎', [], '2023-07-23'], ['백송예술제🤘', [], '2024-02-17']]\n"
     ]
    }
   ],
   "execution_count": 76
  },
  {
   "metadata": {},
   "cell_type": "code",
   "outputs": [],
   "execution_count": null,
   "source": "",
   "id": "cf14152e60ae3b28"
  }
 ],
 "metadata": {
  "kernelspec": {
   "display_name": "Python 3",
   "language": "python",
   "name": "python3"
  },
  "language_info": {
   "codemirror_mode": {
    "name": "ipython",
    "version": 2
   },
   "file_extension": ".py",
   "mimetype": "text/x-python",
   "name": "python",
   "nbconvert_exporter": "python",
   "pygments_lexer": "ipython2",
   "version": "2.7.6"
  }
 },
 "nbformat": 4,
 "nbformat_minor": 5
}
